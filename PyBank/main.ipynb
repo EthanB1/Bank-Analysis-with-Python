{
 "cells": [
  {
   "cell_type": "code",
   "execution_count": 2,
   "id": "fd87ab4a-1eda-44be-954c-05fb597c640c",
   "metadata": {},
   "outputs": [],
   "source": [
    "#Import csv and pathlib\n",
    "import csv\n",
    "\n",
    "from pathlib import Path"
   ]
  },
  {
   "cell_type": "code",
   "execution_count": 18,
   "id": "919a415f-dcf0-4167-96fb-b8a17ec9b0a0",
   "metadata": {},
   "outputs": [
    {
     "name": "stdout",
     "output_type": "stream",
     "text": [
      "C:\\Users\\ethan\\Documents\\python-homework\\PyBank\n",
      "C:\\Users\\ethan\\Documents\\python-homework\\PyBank\\budget_data.csv\n"
     ]
    }
   ],
   "source": [
    "#set path\n",
    "current_path = Path.cwd()\n",
    "\n",
    "budget_data = Path('C:/Users/ethan/Documents/python-homework/PyBank/budget_data.csv')\n",
    "\n",
    "print(current_path)\n",
    "print(budget_data)"
   ]
  },
  {
   "cell_type": "code",
   "execution_count": 46,
   "id": "467f88f9-e51d-4798-8d1a-2b408e47a42c",
   "metadata": {},
   "outputs": [
    {
     "name": "stdout",
     "output_type": "stream",
     "text": [
      "Total Months: 86\n",
      "Total: 38382578.0\n"
     ]
    }
   ],
   "source": [
    "#Initiliaze List and read csv\n",
    "profit_loss = []\n",
    "\n",
    "with open(budget_data, 'r') as file:\n",
    "    csv_reader = csv.reader(file)\n",
    "    \n",
    "    #find total number of months\n",
    "    next(csv_reader)\n",
    "    month_count = sum(1 for row in csv_reader)\n",
    "    \n",
    "    #find the total profit and loss\n",
    "    file.seek(0)\n",
    "    next(csv_reader)\n",
    "    \n",
    "    total_profit_loss = 0\n",
    "    \n",
    "    for row in csv_reader:\n",
    "        profit_loss = float(row[1])\n",
    "        total_profit_loss += profit_loss\n",
    "        \n",
    "\n",
    "                            \n",
    "    \n",
    "    \n",
    "\n",
    "print(f\"Total Months: {month_count}\")\n",
    "print(f\"Total: {total_profit_loss}\")   "
   ]
  },
  {
   "cell_type": "code",
   "execution_count": null,
   "id": "e8dfa54b-e0d0-4606-ab1b-0cad95ef4206",
   "metadata": {},
   "outputs": [],
   "source": []
  }
 ],
 "metadata": {
  "kernelspec": {
   "display_name": "Python 3 (ipykernel)",
   "language": "python",
   "name": "python3"
  },
  "language_info": {
   "codemirror_mode": {
    "name": "ipython",
    "version": 3
   },
   "file_extension": ".py",
   "mimetype": "text/x-python",
   "name": "python",
   "nbconvert_exporter": "python",
   "pygments_lexer": "ipython3",
   "version": "3.10.11"
  }
 },
 "nbformat": 4,
 "nbformat_minor": 5
}
