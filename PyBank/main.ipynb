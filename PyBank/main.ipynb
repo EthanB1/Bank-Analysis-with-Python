{
 "cells": [
  {
   "cell_type": "code",
   "execution_count": 92,
   "id": "fd87ab4a-1eda-44be-954c-05fb597c640c",
   "metadata": {},
   "outputs": [],
   "source": [
    "#Import csv and pathlib\n",
    "import csv\n",
    "\n",
    "from pathlib import Path"
   ]
  },
  {
   "cell_type": "code",
   "execution_count": 93,
   "id": "919a415f-dcf0-4167-96fb-b8a17ec9b0a0",
   "metadata": {},
   "outputs": [
    {
     "name": "stdout",
     "output_type": "stream",
     "text": [
      "C:\\Users\\ethan\\Documents\\python-homework\\PyBank\n",
      "C:\\Users\\ethan\\Documents\\python-homework\\PyBank\\budget_data.csv\n"
     ]
    }
   ],
   "source": [
    "#set path for budget_data.csv\n",
    "current_path = Path.cwd()\n",
    "\n",
    "budget_data = Path('C:/Users/ethan/Documents/python-homework/PyBank/budget_data.csv')\n",
    "\n",
    "print(current_path)\n",
    "print(budget_data)"
   ]
  },
  {
   "cell_type": "code",
   "execution_count": 83,
   "id": "467f88f9-e51d-4798-8d1a-2b408e47a42c",
   "metadata": {},
   "outputs": [
    {
     "name": "stdout",
     "output_type": "stream",
     "text": [
      "Total Months: 86\n",
      "Total: 38382578.0\n",
      "Average Change: $-2315.12\n"
     ]
    }
   ],
   "source": [
    "#Initiliaze List and read csv\n",
    "profit_loss = []\n",
    "\n",
    "#Read budget_data file\n",
    "with open(budget_data, 'r') as file:\n",
    "    csv_reader = csv.reader(file)\n",
    "    \n",
    "    #find total number of months\n",
    "    \n",
    "    next(csv_reader)\n",
    "    month_count = sum(1 for row in csv_reader)\n",
    "    \n",
    "    #find the total profit and loss\n",
    "    file.seek(0)\n",
    "    next(csv_reader)\n",
    "    \n",
    "    total_profit_loss = 0\n",
    "    \n",
    "    for row in csv_reader:\n",
    "        profit_loss = float(row[1])\n",
    "        total_profit_loss += profit_loss\n",
    "    \n",
    "    #find the average change in Profit/Losses\n",
    "    \n",
    "    file.seek(0)\n",
    "    next(csv_reader)\n",
    "    \n",
    "    profitandloss = [int(row[1]) for row in csv_reader]\n",
    "\n",
    "changes = [profitandloss[i+1] - profitandloss[i] for i in range(len(profitandloss) - 1)]\n",
    "                 \n",
    "average_change = sum(changes) / len(changes)\n",
    "\n",
    "avg_change = round(average_change, 2)\n",
    "\n",
    "print(f\"Total Months: {month_count}\")\n",
    "print(f\"Total: {total_profit_loss}\")\n",
    "print(f\"Average Change: ${avg_change}\")"
   ]
  },
  {
   "cell_type": "code",
   "execution_count": 95,
   "id": "30d0b8b1-c1f3-45fa-b36d-efb19be59bbc",
   "metadata": {},
   "outputs": [
    {
     "ename": "IndexError",
     "evalue": "list index out of range",
     "output_type": "error",
     "traceback": [
      "\u001b[1;31m---------------------------------------------------------------------------\u001b[0m",
      "\u001b[1;31mIndexError\u001b[0m                                Traceback (most recent call last)",
      "Cell \u001b[1;32mIn[95], line 17\u001b[0m\n\u001b[0;32m     13\u001b[0m max_increase \u001b[38;5;241m=\u001b[39m \u001b[38;5;28mmax\u001b[39m(changes)\n\u001b[0;32m     15\u001b[0m max_increase_index \u001b[38;5;241m=\u001b[39m changes\u001b[38;5;241m.\u001b[39mindex(\u001b[38;5;28mmax\u001b[39m(changes))\n\u001b[1;32m---> 17\u001b[0m max_increase_date \u001b[38;5;241m=\u001b[39m \u001b[43mdates\u001b[49m\u001b[43m[\u001b[49m\u001b[43mmax_increase_index\u001b[49m\u001b[43m \u001b[49m\u001b[38;5;241;43m+\u001b[39;49m\u001b[43m \u001b[49m\u001b[38;5;241;43m1\u001b[39;49m\u001b[43m]\u001b[49m     \n\u001b[0;32m     19\u001b[0m     \u001b[38;5;66;03m#find greatest decrease in profits\u001b[39;00m\n\u001b[0;32m     21\u001b[0m min_increase \u001b[38;5;241m=\u001b[39m \u001b[38;5;28mmin\u001b[39m(changes)\n",
      "\u001b[1;31mIndexError\u001b[0m: list index out of range"
     ]
    }
   ],
   "source": [
    "#find the greatest increase in profits\n",
    "\n",
    "dates = []\n",
    "\n",
    "with open(budget_data, 'r') as file:\n",
    "    csv_reader = csv.reader(file)\n",
    "    next(csv_reader)\n",
    "   \n",
    "    profit_loss = [int(row[1]) for row in csv_reader]\n",
    "\n",
    "changes = [profit_loss[i+1] - profit_loss[i] for i in range(len(profit_loss) - 1)]\n",
    "\n",
    "max_increase = max(changes)\n",
    "\n",
    "max_increase_index = changes.index(max(changes))\n",
    "\n",
    "max_increase_date = dates[max_increase_index + 1]     \n",
    "   \n",
    "    #find greatest decrease in profits\n",
    "    \n",
    "min_increase = min(changes)\n",
    "\n",
    "\n",
    "\n",
    "print(f\"Greatest Decrease in Profits: ${min_increase}\")\n",
    "print(f\"Greatest Increase in Profits: ${max_increase} (Date: {max_increase_date})\")"
   ]
  },
  {
   "cell_type": "code",
   "execution_count": 82,
   "id": "946a1b7e-a8df-4ab5-8554-d60d5739a744",
   "metadata": {},
   "outputs": [
    {
     "name": "stdout",
     "output_type": "stream",
     "text": [
      "Total Months: 86\n",
      "Total: 38382578.0\n",
      "Average Change: -2315.1176470588234\n",
      "Greatest Increase in Profits: $1926159\n"
     ]
    }
   ],
   "source": [
    "print(f\"Total Months: {month_count}\")\n",
    "print(f\"Total: {total_profit_loss}\")\n",
    "print(f\"Average Change: {average_change}\")\n",
    "print(f\"Greatest Increase in Profits: ${max_increase}\")"
   ]
  },
  {
   "cell_type": "code",
   "execution_count": null,
   "id": "54bbe8ba-f9a2-48ca-a379-813ff2233b08",
   "metadata": {},
   "outputs": [],
   "source": []
  }
 ],
 "metadata": {
  "kernelspec": {
   "display_name": "Python 3 (ipykernel)",
   "language": "python",
   "name": "python3"
  },
  "language_info": {
   "codemirror_mode": {
    "name": "ipython",
    "version": 3
   },
   "file_extension": ".py",
   "mimetype": "text/x-python",
   "name": "python",
   "nbconvert_exporter": "python",
   "pygments_lexer": "ipython3",
   "version": "3.10.11"
  }
 },
 "nbformat": 4,
 "nbformat_minor": 5
}
